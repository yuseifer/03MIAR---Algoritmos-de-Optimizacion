{
  "nbformat": 4,
  "nbformat_minor": 0,
  "metadata": {
    "colab": {
      "provenance": [],
      "include_colab_link": true
    },
    "kernelspec": {
      "name": "python3",
      "display_name": "Python 3"
    },
    "language_info": {
      "name": "python"
    }
  },
  "cells": [
    {
      "cell_type": "markdown",
      "metadata": {
        "id": "view-in-github",
        "colab_type": "text"
      },
      "source": [
        "<a href=\"https://colab.research.google.com/github/yuseifer/03MIAR---Algoritmos-de-Optimizacion/blob/Actividades-Guiadas/RenzoFernandezChacon_AG1.ipynb\" target=\"_parent\"><img src=\"https://colab.research.google.com/assets/colab-badge.svg\" alt=\"Open In Colab\"/></a>"
      ]
    },
    {
      "cell_type": "markdown",
      "metadata": {
        "id": "GG2D6vLdYwwy"
      },
      "source": [
        "Actividad Guiada 1 de Algoritmos de Optimizacion\n",
        "\n",
        "Nombre: RENZO DANIEL FERNÁNDEZ CHACÓN\n",
        "\n",
        "https://colab.research.google.com/drive/1oyUcq_38iPH-2sJTLJ2CajumW9hs919p?usp=sharing\n",
        "\n",
        "https://github.com/yuseifer/03MIAR---Algoritmos-de-Optimizacion"
      ]
    },
    {
      "cell_type": "code",
      "metadata": {
        "id": "rTiqLuX2ZKuL",
        "outputId": "b838238f-724e-42ef-ae16-abfc23497314",
        "colab": {
          "base_uri": "https://localhost:8080/"
        }
      },
      "source": [
        "#Torres de Hanoi - Divide y venceras\n",
        "################################################################################\n",
        "\n",
        "\n",
        "################################################################\n",
        "def Torres_Hanoi(N, desde, hasta):\n",
        "  #N - Nº de fichas\n",
        "  #desde - torre inicial\n",
        "  #hasta - torre fina\n",
        "  if N==1 :\n",
        "    print(\"Lleva la ficha desde \" + str(desde) + \" hasta \" + str(hasta))\n",
        "\n",
        "  else:\n",
        "    Torres_Hanoi(N-1, desde, 6-desde-hasta)\n",
        "    print(\"Lleva la ficha desde \" + str(desde) + \" hasta \" + str(hasta))\n",
        "    Torres_Hanoi(N-1, 6-desde-hasta,  hasta)\n",
        "\n",
        "Torres_Hanoi(5, 1, 3)\n",
        "################################################################"
      ],
      "execution_count": null,
      "outputs": [
        {
          "output_type": "stream",
          "name": "stdout",
          "text": [
            "Lleva la ficha desde 1 hasta 3\n",
            "Lleva la ficha desde 1 hasta 2\n",
            "Lleva la ficha desde 3 hasta 2\n",
            "Lleva la ficha desde 1 hasta 3\n",
            "Lleva la ficha desde 2 hasta 1\n",
            "Lleva la ficha desde 2 hasta 3\n",
            "Lleva la ficha desde 1 hasta 3\n",
            "Lleva la ficha desde 1 hasta 2\n",
            "Lleva la ficha desde 3 hasta 2\n",
            "Lleva la ficha desde 3 hasta 1\n",
            "Lleva la ficha desde 2 hasta 1\n",
            "Lleva la ficha desde 3 hasta 2\n",
            "Lleva la ficha desde 1 hasta 3\n",
            "Lleva la ficha desde 1 hasta 2\n",
            "Lleva la ficha desde 3 hasta 2\n",
            "Lleva la ficha desde 1 hasta 3\n",
            "Lleva la ficha desde 2 hasta 1\n",
            "Lleva la ficha desde 2 hasta 3\n",
            "Lleva la ficha desde 1 hasta 3\n",
            "Lleva la ficha desde 2 hasta 1\n",
            "Lleva la ficha desde 3 hasta 2\n",
            "Lleva la ficha desde 3 hasta 1\n",
            "Lleva la ficha desde 2 hasta 1\n",
            "Lleva la ficha desde 2 hasta 3\n",
            "Lleva la ficha desde 1 hasta 3\n",
            "Lleva la ficha desde 1 hasta 2\n",
            "Lleva la ficha desde 3 hasta 2\n",
            "Lleva la ficha desde 1 hasta 3\n",
            "Lleva la ficha desde 2 hasta 1\n",
            "Lleva la ficha desde 2 hasta 3\n",
            "Lleva la ficha desde 1 hasta 3\n"
          ]
        }
      ]
    },
    {
      "cell_type": "code",
      "metadata": {
        "id": "YwBudj2hYoMR",
        "colab": {
          "base_uri": "https://localhost:8080/"
        },
        "outputId": "628f9c41-f6bc-45cd-8eac-e4ac290b03c3"
      },
      "source": [
        "#Cambio de monedas - Técnica voraz\n",
        "################################################################################\n",
        "SISTEMA = [11, 5 ,  1  ]\n",
        "################################################################\n",
        "def cambio_monedas(CANTIDAD,SISTEMA):\n",
        "#....\n",
        "  SOLUCION = [0]*len(SISTEMA)\n",
        "  ValorAcumulado = 0\n",
        "\n",
        "  for i,valor in enumerate(SISTEMA):\n",
        "    monedas = (CANTIDAD-ValorAcumulado)//valor\n",
        "    SOLUCION[i] = monedas\n",
        "    ValorAcumulado = ValorAcumulado + monedas*valor\n",
        "\n",
        "    if CANTIDAD == ValorAcumulado:\n",
        "      return SOLUCION\n",
        "\n",
        "  print(\"No es posible encontrar solucion\")\n",
        "\n",
        "cambio_monedas(15,SISTEMA)\n",
        "\n",
        "\n",
        "################################################################"
      ],
      "execution_count": null,
      "outputs": [
        {
          "output_type": "execute_result",
          "data": {
            "text/plain": [
              "[1, 0, 4]"
            ]
          },
          "metadata": {},
          "execution_count": 2
        }
      ]
    },
    {
      "cell_type": "code",
      "metadata": {
        "id": "9toJ4WjhQUNj"
      },
      "source": [],
      "execution_count": null,
      "outputs": []
    },
    {
      "cell_type": "code",
      "metadata": {
        "id": "H4Iwt2XRZTFr",
        "colab": {
          "base_uri": "https://localhost:8080/"
        },
        "outputId": "7724cc4b-96a3-4538-b6de-83748bcf027c"
      },
      "source": [
        "#N Reinas - Vuelta Atrás()\n",
        "################################################################################\n",
        "\n",
        "#Verifica que en la solución parcial no hay amenzas entre reinas\n",
        "################################################################\n",
        "def es_prometedora(SOLUCION,etapa):\n",
        "################################################################\n",
        "  #print(SOLUCION)\n",
        "  #Si la solución tiene dos valores iguales no es valida => Dos reinas en la misma fila\n",
        "  for i in range(etapa+1):\n",
        "    #print(\"El valor \" + str(SOLUCION[i]) + \" está \" +  str(SOLUCION.count(SOLUCION[i])) + \" veces\")\n",
        "    if SOLUCION.count(SOLUCION[i]) > 1:\n",
        "      return False\n",
        "\n",
        "    #Verifica las diagonales\n",
        "    for j in range(i+1, etapa +1 ):\n",
        "      #print(\"Comprobando diagonal de \" + str(i) + \" y \" + str(j))\n",
        "      if abs(i-j) == abs(SOLUCION[i]-SOLUCION[j]) : return False\n",
        "  return True\n",
        "\n",
        "#Traduce la solución al tablero\n",
        "################################################################\n",
        "def escribe_solucion(S):\n",
        "################################################################\n",
        "  n = len(S)\n",
        "  for x in range(n):\n",
        "    print(\"\")\n",
        "    for i in range(n):\n",
        "      if S[i] == x+1:\n",
        "        print(\" X \" , end=\"\")\n",
        "      else:\n",
        "        print(\" - \", end=\"\")\n",
        "\n",
        "\n",
        "\n",
        "#Proceso principal de N-Reinas\n",
        "################################################################\n",
        "def reinas(N, solucion=[],etapa=0):\n",
        "################################################################\n",
        "### ....\n",
        "  if len(solucion) == 0:         # [0,0,0...]\n",
        "    solucion = [0 for i in range(N) ]\n",
        "\n",
        "  for i in range(1, N+1):\n",
        "    solucion[etapa] = i\n",
        "    if es_prometedora(solucion, etapa):\n",
        "      if etapa == N-1:\n",
        "        print(solucion)\n",
        "      else:\n",
        "        reinas(N, solucion, etapa+1)\n",
        "    else:\n",
        "      None\n",
        "\n",
        "  solucion[etapa] = 0\n",
        "\n",
        "reinas(8,solucion=[],etapa=0)"
      ],
      "execution_count": null,
      "outputs": [
        {
          "output_type": "stream",
          "name": "stdout",
          "text": [
            "[1, 5, 8, 6, 3, 7, 2, 4]\n",
            "[1, 6, 8, 3, 7, 4, 2, 5]\n",
            "[1, 7, 4, 6, 8, 2, 5, 3]\n",
            "[1, 7, 5, 8, 2, 4, 6, 3]\n",
            "[2, 4, 6, 8, 3, 1, 7, 5]\n",
            "[2, 5, 7, 1, 3, 8, 6, 4]\n",
            "[2, 5, 7, 4, 1, 8, 6, 3]\n",
            "[2, 6, 1, 7, 4, 8, 3, 5]\n",
            "[2, 6, 8, 3, 1, 4, 7, 5]\n",
            "[2, 7, 3, 6, 8, 5, 1, 4]\n",
            "[2, 7, 5, 8, 1, 4, 6, 3]\n",
            "[2, 8, 6, 1, 3, 5, 7, 4]\n",
            "[3, 1, 7, 5, 8, 2, 4, 6]\n",
            "[3, 5, 2, 8, 1, 7, 4, 6]\n",
            "[3, 5, 2, 8, 6, 4, 7, 1]\n",
            "[3, 5, 7, 1, 4, 2, 8, 6]\n",
            "[3, 5, 8, 4, 1, 7, 2, 6]\n",
            "[3, 6, 2, 5, 8, 1, 7, 4]\n",
            "[3, 6, 2, 7, 1, 4, 8, 5]\n",
            "[3, 6, 2, 7, 5, 1, 8, 4]\n",
            "[3, 6, 4, 1, 8, 5, 7, 2]\n",
            "[3, 6, 4, 2, 8, 5, 7, 1]\n",
            "[3, 6, 8, 1, 4, 7, 5, 2]\n",
            "[3, 6, 8, 1, 5, 7, 2, 4]\n",
            "[3, 6, 8, 2, 4, 1, 7, 5]\n",
            "[3, 7, 2, 8, 5, 1, 4, 6]\n",
            "[3, 7, 2, 8, 6, 4, 1, 5]\n",
            "[3, 8, 4, 7, 1, 6, 2, 5]\n",
            "[4, 1, 5, 8, 2, 7, 3, 6]\n",
            "[4, 1, 5, 8, 6, 3, 7, 2]\n",
            "[4, 2, 5, 8, 6, 1, 3, 7]\n",
            "[4, 2, 7, 3, 6, 8, 1, 5]\n",
            "[4, 2, 7, 3, 6, 8, 5, 1]\n",
            "[4, 2, 7, 5, 1, 8, 6, 3]\n",
            "[4, 2, 8, 5, 7, 1, 3, 6]\n",
            "[4, 2, 8, 6, 1, 3, 5, 7]\n",
            "[4, 6, 1, 5, 2, 8, 3, 7]\n",
            "[4, 6, 8, 2, 7, 1, 3, 5]\n",
            "[4, 6, 8, 3, 1, 7, 5, 2]\n",
            "[4, 7, 1, 8, 5, 2, 6, 3]\n",
            "[4, 7, 3, 8, 2, 5, 1, 6]\n",
            "[4, 7, 5, 2, 6, 1, 3, 8]\n",
            "[4, 7, 5, 3, 1, 6, 8, 2]\n",
            "[4, 8, 1, 3, 6, 2, 7, 5]\n",
            "[4, 8, 1, 5, 7, 2, 6, 3]\n",
            "[4, 8, 5, 3, 1, 7, 2, 6]\n",
            "[5, 1, 4, 6, 8, 2, 7, 3]\n",
            "[5, 1, 8, 4, 2, 7, 3, 6]\n",
            "[5, 1, 8, 6, 3, 7, 2, 4]\n",
            "[5, 2, 4, 6, 8, 3, 1, 7]\n",
            "[5, 2, 4, 7, 3, 8, 6, 1]\n",
            "[5, 2, 6, 1, 7, 4, 8, 3]\n",
            "[5, 2, 8, 1, 4, 7, 3, 6]\n",
            "[5, 3, 1, 6, 8, 2, 4, 7]\n",
            "[5, 3, 1, 7, 2, 8, 6, 4]\n",
            "[5, 3, 8, 4, 7, 1, 6, 2]\n",
            "[5, 7, 1, 3, 8, 6, 4, 2]\n",
            "[5, 7, 1, 4, 2, 8, 6, 3]\n",
            "[5, 7, 2, 4, 8, 1, 3, 6]\n",
            "[5, 7, 2, 6, 3, 1, 4, 8]\n",
            "[5, 7, 2, 6, 3, 1, 8, 4]\n",
            "[5, 7, 4, 1, 3, 8, 6, 2]\n",
            "[5, 8, 4, 1, 3, 6, 2, 7]\n",
            "[5, 8, 4, 1, 7, 2, 6, 3]\n",
            "[6, 1, 5, 2, 8, 3, 7, 4]\n",
            "[6, 2, 7, 1, 3, 5, 8, 4]\n",
            "[6, 2, 7, 1, 4, 8, 5, 3]\n",
            "[6, 3, 1, 7, 5, 8, 2, 4]\n",
            "[6, 3, 1, 8, 4, 2, 7, 5]\n",
            "[6, 3, 1, 8, 5, 2, 4, 7]\n",
            "[6, 3, 5, 7, 1, 4, 2, 8]\n",
            "[6, 3, 5, 8, 1, 4, 2, 7]\n",
            "[6, 3, 7, 2, 4, 8, 1, 5]\n",
            "[6, 3, 7, 2, 8, 5, 1, 4]\n",
            "[6, 3, 7, 4, 1, 8, 2, 5]\n",
            "[6, 4, 1, 5, 8, 2, 7, 3]\n",
            "[6, 4, 2, 8, 5, 7, 1, 3]\n",
            "[6, 4, 7, 1, 3, 5, 2, 8]\n",
            "[6, 4, 7, 1, 8, 2, 5, 3]\n",
            "[6, 8, 2, 4, 1, 7, 5, 3]\n",
            "[7, 1, 3, 8, 6, 4, 2, 5]\n",
            "[7, 2, 4, 1, 8, 5, 3, 6]\n",
            "[7, 2, 6, 3, 1, 4, 8, 5]\n",
            "[7, 3, 1, 6, 8, 5, 2, 4]\n",
            "[7, 3, 8, 2, 5, 1, 6, 4]\n",
            "[7, 4, 2, 5, 8, 1, 3, 6]\n",
            "[7, 4, 2, 8, 6, 1, 3, 5]\n",
            "[7, 5, 3, 1, 6, 8, 2, 4]\n",
            "[8, 2, 4, 1, 7, 5, 3, 6]\n",
            "[8, 2, 5, 3, 1, 7, 4, 6]\n",
            "[8, 3, 1, 6, 2, 5, 7, 4]\n",
            "[8, 4, 1, 3, 6, 2, 7, 5]\n"
          ]
        }
      ]
    },
    {
      "cell_type": "code",
      "metadata": {
        "id": "eTZclKH9QV0R",
        "colab": {
          "base_uri": "https://localhost:8080/"
        },
        "outputId": "921df79f-7d2f-4d0a-ec40-754f420895b8"
      },
      "source": [
        "escribe_solucion([1, 5, 8, 6, 3, 7, 2, 4])"
      ],
      "execution_count": null,
      "outputs": [
        {
          "output_type": "stream",
          "name": "stdout",
          "text": [
            "\n",
            " X  -  -  -  -  -  -  - \n",
            " -  -  -  -  -  -  X  - \n",
            " -  -  -  -  X  -  -  - \n",
            " -  -  -  -  -  -  -  X \n",
            " -  X  -  -  -  -  -  - \n",
            " -  -  -  X  -  -  -  - \n",
            " -  -  -  -  -  X  -  - \n",
            " -  -  X  -  -  -  -  - "
          ]
        }
      ]
    },
    {
      "cell_type": "code",
      "metadata": {
        "id": "TocxR55dQWq5",
        "outputId": "4d7c822f-8041-4448-fe8f-eb5b536bc368",
        "colab": {
          "base_uri": "https://localhost:8080/",
          "height": 365
        }
      },
      "source": [
        "#Viaje por el rio - Programación dinámica\n",
        "################################################################################\n",
        "\n",
        "TARIFAS = [\n",
        "[0,5,4,3,999,999,999],\n",
        "[999,0,999,2,3,999,11],\n",
        "[999,999, 0,1,999,4,10],\n",
        "[999,999,999, 0,5,6,9],\n",
        "[999,999, 999,999,0,999,4],\n",
        "[999,999, 999,999,999,0,3],\n",
        "[999,999,999,999,999,999,0]\n",
        "]\n",
        "\n",
        "#999 se puede sustituir por float(\"inf\")\n",
        "\n",
        "\n",
        "#Calculo de la matriz de PRECIOS y RUTAS\n",
        "################################################################\n",
        "def Precios(TARIFAS):\n",
        "################################################################\n",
        "  #Total de Nodos\n",
        "  N = len(TARIFAS[0])\n",
        "\n",
        "  #Inicialización de la tabla de precios\n",
        "  PRECIOS = [ [9999]*N for i in [9999]*N]\n",
        "  RUTA = [ [\"\"]*N for i in [\"\"]*N]\n",
        "\n",
        "  for i in range(0,N-1):\n",
        "    RUTA[i][i] = i             #Para ir de i a i se \"pasa por i\"\n",
        "    PRECIOS[i][i] = 0          #Para ir de i a i se se paga 0\n",
        "    for j in range(i+1, N):\n",
        "      MIN = TARIFAS[i][j]\n",
        "      RUTA[i][j] = i\n",
        "\n",
        "      for k in range(i, j):\n",
        "        if PRECIOS[i][k] + TARIFAS[k][j] < MIN:\n",
        "            MIN = min(MIN, PRECIOS[i][k] + TARIFAS[k][j] )\n",
        "            RUTA[i][j] = k          #Anota que para ir de i a j hay que pasar por k\n",
        "        PRECIOS[i][j] = MIN\n",
        "\n",
        "  return PRECIOS,RUTA\n",
        "################################################################\n",
        "\n",
        "PRECIOS,RUTA = Precios(TARIFAS)\n",
        "#print(PRECIOS[0][6])\n",
        "\n",
        "print(\"PRECIOS\")\n",
        "for i in range(len(TARIFAS)):\n",
        "  print(PRECIOS[i])\n",
        "\n",
        "print(\"\\nRUTA\")\n",
        "for i in range(len(TARIFAS)):\n",
        "  print(RUTA[i])\n",
        "\n",
        "#Determinar la ruta con Recursividad\n",
        "def calcular_ruta(RUTA, desde, hasta):\n",
        "  if desde == hasta:\n",
        "    #print(\"Ir a :\" + str(desde))\n",
        "    return \"\"\n",
        "  else:\n",
        "    return str(calcular_ruta( RUTA, desde, RUTA[desde][hasta])) +  \\\n",
        "                ',' + \\\n",
        "                str(RUTA[desde][hasta] \\\n",
        "              )\n",
        "\n",
        "print(\"\\nLa ruta es:\")\n",
        "calcular_ruta(RUTA, 0,6)"
      ],
      "execution_count": null,
      "outputs": [
        {
          "output_type": "stream",
          "name": "stdout",
          "text": [
            "PRECIOS\n",
            "[0, 5, 4, 3, 8, 8, 11]\n",
            "[9999, 0, 999, 2, 3, 8, 7]\n",
            "[9999, 9999, 0, 1, 6, 4, 7]\n",
            "[9999, 9999, 9999, 0, 5, 6, 9]\n",
            "[9999, 9999, 9999, 9999, 0, 999, 4]\n",
            "[9999, 9999, 9999, 9999, 9999, 0, 3]\n",
            "[9999, 9999, 9999, 9999, 9999, 9999, 9999]\n",
            "\n",
            "RUTA\n",
            "[0, 0, 0, 0, 1, 2, 5]\n",
            "['', 1, 1, 1, 1, 3, 4]\n",
            "['', '', 2, 2, 3, 2, 5]\n",
            "['', '', '', 3, 3, 3, 3]\n",
            "['', '', '', '', 4, 4, 4]\n",
            "['', '', '', '', '', 5, 5]\n",
            "['', '', '', '', '', '', '']\n",
            "\n",
            "La ruta es:\n"
          ]
        },
        {
          "output_type": "execute_result",
          "data": {
            "text/plain": [
              "',0,2,5'"
            ],
            "application/vnd.google.colaboratory.intrinsic+json": {
              "type": "string"
            }
          },
          "metadata": {},
          "execution_count": 5
        }
      ]
    },
    {
      "cell_type": "markdown",
      "source": [
        "#Práctica Individual"
      ],
      "metadata": {
        "id": "Imvr2ePDXlzb"
      }
    },
    {
      "cell_type": "code",
      "source": [
        "#Creando el array 1D\n",
        "import numpy as np\n",
        "\n",
        "arre = np.random.randint(0,100,(5,))\n",
        "arre = list(arre)\n",
        "print(arre)"
      ],
      "metadata": {
        "colab": {
          "base_uri": "https://localhost:8080/"
        },
        "id": "j0Cr1FnCXpCj",
        "outputId": "96f6aed5-b79c-4585-be5d-cee9814f0b9a"
      },
      "execution_count": 48,
      "outputs": [
        {
          "output_type": "stream",
          "name": "stdout",
          "text": [
            "[27, 84, 58, 73, 41]\n"
          ]
        }
      ]
    },
    {
      "cell_type": "markdown",
      "source": [
        "Función por fuerza bruta: coste computacional 2^n puesto que lleva una función en recurrencia de T(n-1) y esta a su vez es una recurencia de 1+T(n-2)"
      ],
      "metadata": {
        "id": "t8dUhQjTdAtz"
      }
    },
    {
      "cell_type": "code",
      "source": [
        "#Función por fuerza bruta\n",
        "def fuerza_bruta(arr):\n",
        "  solucion=[np.inf,np.inf]\n",
        "  numeros=[0,0]\n",
        "  for i in range(len(arr)-1):\n",
        "    for j in range(len(arr[i+1:])):\n",
        "      if np.abs(arr[i]-arr[i+1+j]) < solucion[0]:\n",
        "        solucion[0]=np.abs(arr[i]-arr[i+1+j])\n",
        "        numeros[0]=[arr[i],arr[i+1+j]]\n",
        "      elif np.abs(arr[i]-arr[i+1+j]) < solucion[1]:\n",
        "        solucion[1]=np.abs(arr[i]-arr[i+1+j])\n",
        "        numeros[1]=[arr[i],arr[i+1+j]]\n",
        "  return [solucion,numeros]\n",
        "\n",
        "\n"
      ],
      "metadata": {
        "id": "iOkGR5L7YNgu"
      },
      "execution_count": 49,
      "outputs": []
    },
    {
      "cell_type": "code",
      "source": [
        "results = fuerza_bruta(arre)\n",
        "\n",
        "print(results)"
      ],
      "metadata": {
        "colab": {
          "base_uri": "https://localhost:8080/"
        },
        "id": "FTkG7Xr_eHdm",
        "outputId": "900050ea-2c97-4e73-ee22-4ac384be1c42"
      },
      "execution_count": 50,
      "outputs": [
        {
          "output_type": "stream",
          "name": "stdout",
          "text": [
            "[[11, 15], [[84, 73], [58, 73]]]\n"
          ]
        }
      ]
    },
    {
      "cell_type": "markdown",
      "source": [
        "Para poder implementar el algoritmo se requería de una función que nos devuelva el mínimo de una lista, para eso se usó una función propia, así mismo para poder obtener una métrica en la cuál tomar decisiones se opto por analizar la distancia de un punto a otro por lo que también se implemento una función para llevar esto acabo. El algoritmo mezcla técnicas voraces y divide y vencerás puesto que al implementar un algoritmo puro de divide y vencerás no me daba la mejor solución, para esto se analizó el problema y se determino al realizar recursividad en una solución minima temporal se podría obtener el mínimo global, por lo que se implementa la siguiente lógica en orden para resolver el problema:\n",
        "\n",
        "1. Se obtienen una lista de las distancias para el primer valor de la lista tomando este como referencia, es decir, se resta el valor de referencia con los demás de la lista para obtener las distancias con respecto al valor de referencoa. Distancias que valgan 0 serán reemplazadas con 999 para evitar que el algoritmo caiga en la solución trivial.\n",
        "\n",
        "2. Se obtiene el índice del valor mínimo de la lista de distancias.\n",
        "\n",
        "3. Se aplica recursividad en el índice de la distancia mínima tomando ahora como referencia dicho indice.\n",
        "\n",
        "4. Una vez que el algoritmo no encuentra mejores soluciones devuelve la mejor solución encontrada hasta ese momento, es decir, el índice de referencia y el índice del mínimo encontrado en el último instante de la recursividad.\n",
        "\n",
        "Analizando la complejidad del algoritmo, en este tenemos 2 funciones que tienen complejidad n , por lo que acumulado se tendría 2n, después se tiene la recursividad que aporta un nlog(n), por lo que se completa con 2n + nlog(n)"
      ],
      "metadata": {
        "id": "pTmmixyag5Pr"
      }
    },
    {
      "cell_type": "code",
      "source": [
        "#Función para el mínimo\n",
        "def algo_min(vector, inicio,final):\n",
        "  indice_min = inicio\n",
        "  for i in range(inicio+1,final):\n",
        "    if vector[i]<vector[indice_min]:\n",
        "      indice_min=i\n",
        "  return indice_min\n",
        "#Función para calcular distancias\n",
        "def calcula_distancia_1D(p1,p2,p=1):\n",
        "  sumas = 0\n",
        "  sumas = sumas + ((np.abs(p2-p1))**p)\n",
        "  sumas = sumas**(1/p)\n",
        "  return sumas\n",
        "#Algoritmo propuesto\n",
        "def div_y_venc(arr,indice=0,min=np.inf):\n",
        "  print(\"el mínimo es: \",min)\n",
        "  encontrado=0\n",
        "  vector_distancias=[calcula_distancia_1D(x,arr[indice]) if calcula_distancia_1D(x,arr[indice]) > 0 else 999 for x in arr]\n",
        "  indice_prov = algo_min(vector_distancias, 0,len(vector_distancias))\n",
        "  min_prov = vector_distancias[indice_prov]\n",
        "  if (min_prov < min) :\n",
        "    min = div_y_venc(arr,indice_prov,min_prov)\n",
        "  else:\n",
        "    print(f'Los índices son [{indice},{indice_prov}] y el mínimo es de {min_prov}')\n",
        "\n",
        "    return [indice,indice_prov]\n",
        "\n",
        "\n",
        "\n",
        "\n"
      ],
      "metadata": {
        "id": "ylaElqv4GgLT"
      },
      "execution_count": 45,
      "outputs": []
    },
    {
      "cell_type": "code",
      "source": [
        "#Implementamos la solución\n",
        "print(f'Lista a trabajar: {arre}')\n",
        "div_y_venc(arre)"
      ],
      "metadata": {
        "colab": {
          "base_uri": "https://localhost:8080/"
        },
        "id": "1UrdNCiVcxA8",
        "outputId": "a4842120-9124-49ec-b0a2-f61383c91206"
      },
      "execution_count": 51,
      "outputs": [
        {
          "output_type": "stream",
          "name": "stdout",
          "text": [
            "Lista a trabajar: [27, 84, 58, 73, 41]\n",
            "el mínimo es:  inf\n",
            "el mínimo es:  14.0\n",
            "Los índices son [4,0] y el mínimo es de 14.0\n"
          ]
        }
      ]
    },
    {
      "cell_type": "markdown",
      "source": [
        "Para poder extender el algoritmo a una solución 2D o 3D lo que se debe realizar es solo cambiar la función de coste puesto que esta era para una lista 1D, por lo que se implementa la nueva función de costes que calcula distancia. Para que no se confunda con la solución anterior, se implementara la nueva solución en una nueva función."
      ],
      "metadata": {
        "id": "8rgMKn_Dmp8t"
      }
    },
    {
      "cell_type": "code",
      "source": [
        "#Nueva función de costes\n",
        "def calcula_distancia(p1,p2,p=1):\n",
        "  sumas = 0\n",
        "  for i in range(len(p1)):\n",
        "    sumas = sumas + ((np.abs(p2[i]-p1[i]))**p)\n",
        "  sumas = sumas**(1/p)\n",
        "  return sumas\n",
        "\n",
        "#Algoritmo propuesto\n",
        "def div_y_venc_completo(arr,indice=0,min=np.inf):\n",
        "  print(\"el mínimo es: \",min)\n",
        "  encontrado=0\n",
        "  vector_distancias=[calcula_distancia(x,arr[indice]) if calcula_distancia(x,arr[indice]) > 0 else 999 for x in arr]\n",
        "  indice_prov = algo_min(vector_distancias, 0,len(vector_distancias))\n",
        "  min_prov = vector_distancias[indice_prov]\n",
        "  if (min_prov < min) :\n",
        "    min = div_y_venc_completo(arr,indice_prov,min_prov)\n",
        "  else:\n",
        "    print(f'Los índices son [{indice},{indice_prov}] y el mínimo es de {min_prov}')\n",
        "\n",
        "    return [indice,indice_prov]\n",
        "\n"
      ],
      "metadata": {
        "id": "Co_tdruhm577"
      },
      "execution_count": 72,
      "outputs": []
    },
    {
      "cell_type": "markdown",
      "source": [
        "Para plantear el problema se debe dar la lista en este formato: [(n1,n2,n3),...,(ni,nj,nk)]"
      ],
      "metadata": {
        "id": "kgrTk8MqngCA"
      }
    },
    {
      "cell_type": "code",
      "source": [
        "cantidad_pares = 6\n",
        "\n",
        "lista_numeros = [(np.random.randint(1, 100), np.random.randint(1, 100)) for _ in range(cantidad_pares)]\n",
        "\n",
        "print(lista_numeros)"
      ],
      "metadata": {
        "colab": {
          "base_uri": "https://localhost:8080/"
        },
        "id": "e5eReTrFny1G",
        "outputId": "60c8d20b-d611-46e7-ef85-a27be7330bbc"
      },
      "execution_count": 83,
      "outputs": [
        {
          "output_type": "stream",
          "name": "stdout",
          "text": [
            "[(54, 37), (59, 56), (97, 71), (44, 52), (39, 49), (72, 7)]\n"
          ]
        }
      ]
    },
    {
      "cell_type": "code",
      "source": [
        "div_y_venc_completo(lista_numeros)"
      ],
      "metadata": {
        "colab": {
          "base_uri": "https://localhost:8080/"
        },
        "id": "cjd3OyQQv1-g",
        "outputId": "54cee1ca-6e80-4955-82bf-81a3e89a7892"
      },
      "execution_count": 84,
      "outputs": [
        {
          "output_type": "stream",
          "name": "stdout",
          "text": [
            "el mínimo es:  inf\n",
            "el mínimo es:  24.0\n",
            "el mínimo es:  19.0\n",
            "el mínimo es:  8.0\n",
            "Los índices son [4,3] y el mínimo es de 8.0\n"
          ]
        }
      ]
    },
    {
      "cell_type": "markdown",
      "source": [
        "Para visualizarlo mejor vamos a graficar los puntos para verificar visualmente el resultado"
      ],
      "metadata": {
        "id": "wxD8t-jpyNvZ"
      }
    },
    {
      "cell_type": "code",
      "source": [
        "import matplotlib.pyplot as plt\n",
        "x = [x[0] for x in lista_numeros]\n",
        "y = [x[1] for x in lista_numeros]\n",
        "plt.scatter(x,y)"
      ],
      "metadata": {
        "colab": {
          "base_uri": "https://localhost:8080/",
          "height": 447
        },
        "id": "7j_7QbROyNZW",
        "outputId": "14070d85-62f9-4d60-8b88-f4f4184ae1b0"
      },
      "execution_count": 85,
      "outputs": [
        {
          "output_type": "execute_result",
          "data": {
            "text/plain": [
              "<matplotlib.collections.PathCollection at 0x7e3c35b0df30>"
            ]
          },
          "metadata": {},
          "execution_count": 85
        },
        {
          "output_type": "display_data",
          "data": {
            "text/plain": [
              "<Figure size 640x480 with 1 Axes>"
            ],
            "image/png": "[encoded data removed]"
          },
          "metadata": {}
        }
      ]
    },
    {
      "cell_type": "markdown",
      "source": [
        "Para 3D\n"
      ],
      "metadata": {
        "id": "TQvoYh0l1KFi"
      }
    },
    {
      "cell_type": "code",
      "source": [
        "cantidad_pares = 3\n",
        "\n",
        "lista_numeros = [(np.random.randint(1, 100), np.random.randint(1, 100), np.random.randint(1, 100)) for _ in range(cantidad_pares)]\n",
        "\n",
        "print(lista_numeros)"
      ],
      "metadata": {
        "colab": {
          "base_uri": "https://localhost:8080/"
        },
        "id": "XqI2w9W91P3u",
        "outputId": "be0af246-3426-4be8-f54c-9ddc9922a26d"
      },
      "execution_count": 78,
      "outputs": [
        {
          "output_type": "stream",
          "name": "stdout",
          "text": [
            "[(59, 44, 11), (47, 3, 41), (63, 82, 66)]\n"
          ]
        }
      ]
    },
    {
      "cell_type": "code",
      "source": [
        "div_y_venc_completo(lista_numeros)"
      ],
      "metadata": {
        "colab": {
          "base_uri": "https://localhost:8080/"
        },
        "id": "lTlR6e211aiC",
        "outputId": "e7bff9e1-8fc8-4b29-ad08-41897368d1bd"
      },
      "execution_count": 79,
      "outputs": [
        {
          "output_type": "stream",
          "name": "stdout",
          "text": [
            "el mínimo es:  inf\n",
            "el mínimo es:  83.0\n",
            "Los índices son [1,0] y el mínimo es de 83.0\n"
          ]
        }
      ]
    },
    {
      "cell_type": "markdown",
      "source": [
        "# Otros intentos para futuros trabajos"
      ],
      "metadata": {
        "id": "cqn9gOJ-gg1O"
      }
    },
    {
      "cell_type": "code",
      "source": [
        "#Función de buble sort\n",
        "\n",
        "def intercambio_val(vector, inicio,final):\n",
        "  temp=vector[inicio]\n",
        "  vector[inicio] = vector[final]\n",
        "  vector[final] = temp\n",
        "\n",
        "def burbuja(a,prim,ult):\n",
        "  for i in range(prim,ult-1):\n",
        "    for j in np.arange(ult-1,i,-1):\n",
        "      if (a[j-1]>a[j]):\n",
        "        a=intercambio_val(a,j-1,j)\n",
        "        #print(a)\n",
        "  return a\n",
        "\n",
        "#Función para el cálculo de distancia\n",
        "import numpy as np\n",
        "#Para esto se usó la metrica  sum(abs(xi-yi)^p)^1/p\n",
        "def calcula_distancia(p1,p2,p=1):\n",
        "  sumas = 0\n",
        "  for i in range(len(p1)):\n",
        "    sumas = sumas + ((np.abs(p2[i]-p1[i]))**p)\n",
        "  sumas = sumas**(1/p)\n",
        "  return sumas\n",
        "\n",
        "def calcula_distancia_1D(p1,p2,p=1):\n",
        "  sumas = 0\n",
        "  sumas = sumas + ((np.abs(p2-p1))**p)\n",
        "  sumas = sumas**(1/p)\n",
        "  return sumas\n",
        "\n",
        "def calcula_d_vector(arr):\n",
        "  distancia_acumulada=0\n",
        "  cont=0\n",
        "  for i in range(len(arr)-1):\n",
        "    distancia_acumulada=distancia_acumulada + calcula_distancia_1D(arr[i],arr[i+1])\n",
        "    cont+=1\n",
        "  return distancia_acumulada/cont\n",
        "\n",
        "#Posteriormente para poder aplicar divide y vencerás\n",
        "#Se deberá tener un vector sin valores repetidos, además para un vector 1D se ha decidido ordenar los datos de manera ascendente para que el\n",
        "#algoritmod desarrollado se ejecute de una manera correcta.\n",
        "#Para poder aplicar este algoritmo se usará una función de perdida que sea igual al promedio de las distancias de un vector\n",
        "#El vector que tenga el menor promedio será aquel que contenga los números más cercanos.\n",
        "#El promedio se hará en función del numero de distancias y no con el número de puntos.\n",
        "\n",
        "#Función divide y vencerás\n",
        "def div_venc(arr,ini,fin):\n",
        "  if len(arr[ini:fin])>2:\n",
        "    pivote = ini+((fin-ini)//2)\n",
        "    izq=calcula_d_vector(arr[ini:pivote+1])\n",
        "    der=calcula_d_vector(arr[pivote:])\n",
        "    if izq <= der:\n",
        "      print(\"Izq: \",izq, \" Der:\",der,\" Pivote: \",pivote)\n",
        "      print(\"Array de la izquierda: \",arr[ini:pivote])\n",
        "\n",
        "      sol = div_venc(arr,ini,pivote)\n",
        "      return sol\n",
        "    else:\n",
        "      print(\"Izq: \",izq, \" Der:\",der)\n",
        "      print(\"Array de la derecha: \",arr[pivote:])\n",
        "      sol = div_venc(arr,pivote,fin)\n",
        "      return sol\n",
        "  else:\n",
        "    print(f'El índice de los puntos son {ini} y {fin-1}')\n",
        "    return [arr[ini],arr[fin-1]]\n",
        "\n",
        "\n",
        "\n",
        "\n",
        "\n"
      ],
      "metadata": {
        "id": "JjTyBi36YTa6"
      },
      "execution_count": 4,
      "outputs": []
    }
  ]
}